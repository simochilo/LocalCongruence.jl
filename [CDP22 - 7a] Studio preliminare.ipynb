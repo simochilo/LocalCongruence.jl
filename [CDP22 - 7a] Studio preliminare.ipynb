{
 "cells": [
  {
   "cell_type": "markdown",
   "id": "61c582ee",
   "metadata": {},
   "source": [
    "Progetto a cura di:<br>\n",
    "&emsp;&emsp;- Gabriele Romualdi<br>\n",
    "&emsp;&emsp;- Simone Chilosi<br><br>\n",
    "Repository GitHub: https://github.com/simochilo/LocalCongruence.jl"
   ]
  },
  {
   "cell_type": "markdown",
   "id": "ecdd5bed",
   "metadata": {},
   "source": [
    "# Vertices congruence"
   ]
  },
  {
   "cell_type": "code",
   "execution_count": null,
   "id": "3babde94",
   "metadata": {},
   "outputs": [],
   "source": [
    "vertCongruence(V::Lar.Array{Float64,2}; ϵ=1e-6)::Tuple{Lar.Points, Array{Array{Int,1},1}}"
   ]
  },
  {
   "cell_type": "markdown",
   "id": "f7e132bf",
   "metadata": {},
   "source": [
    "Questa funzione ha l'obiettivo di verificare se per un certo insieme di punti è possibile trovarne alcuni che hanno una distanza tale da poter essere considerati sovrapponibili e quindi congruenti. Si ha quindi in input un Array di vertici V e una distanza ϵ, due punti vengono considerati sovrapponibili se la loro distanza è inferiore a ϵ.\n",
    "\n",
    "La funzione restituisce in output un nuovo Array di vertici e una mappa che indica quali punti dell'array preso in input sono risultati sovrapponibili e in quale punto del nuovo array sono stati \"accorpati\"."
   ]
  },
  {
   "cell_type": "markdown",
   "id": "824d7cf0",
   "metadata": {},
   "source": [
    "# Chain complex Congruence"
   ]
  },
  {
   "cell_type": "markdown",
   "id": "6cfbef69",
   "metadata": {},
   "source": [
    "Usando come base la congruenza di punti, lo step successivo è quello di verificare la possibile congruenza di complessi di catene, per fare ciò vengono utilizzati i Cochain Operator, che definiscono la funzione di mapping tra cocatene. Così come per vertCongruence, anche in questo caso si otterrà in input sia un nuovo insieme di celle \"raggruppate\" dopo la verifica di congruenza sia il modo in cui si legano vecchioe celle e nuove celle (attraverso una mappa), le vecchie celle vengono considerate come quelle di ordine inferiore (lower_order_classes)."
   ]
  },
  {
   "cell_type": "markdown",
   "id": "98f80ac5",
   "metadata": {},
   "source": [
    "### Julia Native Sparse Matrix"
   ]
  },
  {
   "cell_type": "code",
   "execution_count": null,
   "id": "272363f0",
   "metadata": {},
   "outputs": [],
   "source": [
    "cellCongruenceSM(\n",
    "\tcop::Lar.ChainOp,\n",
    "\tlo_cls::Array{Array{Int,1},1},\n",
    "\tlo_sign::Array{Array{Int8,1},1};\n",
    "\timp = false,\n",
    "\td = 0\n",
    ")::Tuple{ Lar.ChainOp,  Array{Array{Int,1},1},  Array{Array{Int8,1},1} }"
   ]
  },
  {
   "cell_type": "markdown",
   "id": "abb8de61",
   "metadata": {},
   "source": [
    "``cop``: ChainOperator preso in input, è una matrice sparsa che contiene la rappresentazione in coordinate dell'operatore tra spazi lineari di P-catene. Più semplicemente rappresenta l'oggetto cocatena per cui si vuole verificare la congruenza.\n",
    "\n",
    "``lo_cls`` (lower_order_classes): definisce la classe della cocatena, matrice dell'operatore 1-Cocatena.\n",
    "\n",
    "``lo_sign`` (lower_order_sign): specifica se una cella deve essere considerata in ordine inverso.\n",
    "\n",
    "``imp``: parametro binario, se TRUE allora le imprecisioni vengono prese in considerazione e quindi si può ritenere che le celle di ordine inferiore siano \"collassate\" in seguito ad una congruenza rilevata.\n",
    "\n",
    "``d``: parametro che rappresenta l'ordine della cella, corrisponde quindi anche al numero minimo di celle di ordine inferiore di cui la cella corrente deve essere costituita."
   ]
  },
  {
   "cell_type": "markdown",
   "id": "73fb3af7",
   "metadata": {},
   "source": [
    "Ciò che viene restituito in output è il nuovo Cochain Operator, oltre che, analogamente a vertCongruence, una  mappa che lega vecchie celle prese in input e le nuove celle ottenute e anche una seconda mappa che specifica per ogni nuova cella se la corrispondente vecchia cella aveva ordine differente e quindi lo ha cambiato alla fine del procedimento."
   ]
  },
  {
   "cell_type": "code",
   "execution_count": null,
   "id": "26c25a86",
   "metadata": {},
   "outputs": [],
   "source": [
    "chainCongruenceSM(\n",
    "  \tG::Lar.Points, T::Array{Lar.ChainOp};\n",
    "  \timp=false, ϵ=1e-6\n",
    "  )::Tuple{Lar.Points, Array{Lar.ChainOp}}"
   ]
  },
  {
   "cell_type": "markdown",
   "id": "3c271108",
   "metadata": {},
   "source": [
    "``G``: geometria di punti su cui viene eseguita vertCongruence.\n",
    "\n",
    "``T``: topologia di cocatene corrispondente a G.\n",
    "\n",
    "Durante l'esecuzione di questa funzione, la topologia T viene modellata in modo coerente con la rimodellazione della geometria G in seguito all'esecuzione di vertCongruence su di essa."
   ]
  },
  {
   "cell_type": "markdown",
   "id": "46da3016",
   "metadata": {},
   "source": [
    "### GraphBLAS based"
   ]
  },
  {
   "cell_type": "code",
   "execution_count": null,
   "id": "e0f5d156",
   "metadata": {},
   "outputs": [],
   "source": [
    "msc(D::GrB_Matrix{T}, v)"
   ]
  },
  {
   "cell_type": "markdown",
   "id": "7dd02016",
   "metadata": {},
   "source": [
    "``D``: una matrice GraphBlas.\n",
    "\n",
    "``v``: una lista di indici.\n",
    "\n",
    "Questa funzione permette di sommare le colonne della matrice D i cui indici sono contenuti in v."
   ]
  },
  {
   "cell_type": "code",
   "execution_count": null,
   "id": "b7042f1f",
   "metadata": {},
   "outputs": [],
   "source": [
    "cellCongruence(Delta::GrB_Matrix{T}, vclasses)"
   ]
  },
  {
   "cell_type": "markdown",
   "id": "98f29ce7",
   "metadata": {},
   "source": [
    "``Delta``: l'operatore di cocatena.\n",
    "\n",
    "``classes``: la lista che identifica le vecchie celle.\n",
    "\n",
    "Questa funzione effettua l'attivazione dell'algoritmo di CellCongruence"
   ]
  },
  {
   "cell_type": "code",
   "execution_count": null,
   "id": "e505d241",
   "metadata": {},
   "outputs": [],
   "source": [
    "chainCongruenceGB(G, Top)"
   ]
  },
  {
   "cell_type": "markdown",
   "id": "26d55628",
   "metadata": {},
   "source": [
    "``G``: geometria di punti su cui viene eseguita vertCongruence.\n",
    "\n",
    "``Top``: topologia di cocatene corrispondente a G.\n",
    "\n",
    "Durante l'esecuzione di questa funzione, la topologia ``Top`` viene modellata in modo coerente con la rimodellazione della geometria ``G`` in seguito all'esecuzione di vertCongruence su di essa."
   ]
  }
 ],
 "metadata": {
  "kernelspec": {
   "display_name": "Julia 1.6.5",
   "language": "julia",
   "name": "julia-1.6"
  },
  "language_info": {
   "file_extension": ".jl",
   "mimetype": "application/julia",
   "name": "julia",
   "version": "1.6.5"
  }
 },
 "nbformat": 4,
 "nbformat_minor": 5
}
